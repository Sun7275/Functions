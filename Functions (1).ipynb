{
 "cells": [
  {
   "cell_type": "code",
   "execution_count": 9,
   "id": "5ae732a5-e3e8-40c0-af28-d5d57dc6403f",
   "metadata": {},
   "outputs": [
    {
     "name": "stdout",
     "output_type": "stream",
     "text": [
      "13\n"
     ]
    }
   ],
   "source": [
    "#1 What is the difference between a function and a method in python?\n",
    "\n",
    "#Function # function are defined using def and  are standalone.\n",
    "#A function is a block of code that perform a specific task and can be defined independenntly of any class.\n",
    "#Function can have zero or more parameters and they are passed explicitly.\n",
    "\n",
    "def add(a, b):\n",
    "    return a + b\n",
    "\n",
    "result = add(5, 8)\n",
    "print(result)\n"
   ]
  },
  {
   "cell_type": "code",
   "execution_count": 14,
   "id": "3cee5808-5ed3-4fa0-809a-20dbbe2c8ab0",
   "metadata": {},
   "outputs": [
    {
     "data": {
      "text/plain": [
       "29"
      ]
     },
     "execution_count": 14,
     "metadata": {},
     "output_type": "execute_result"
    }
   ],
   "source": [
    "# Method is similar to a function but is associate with an object or class.\n",
    "#Method are defined  within a class and can access and modify the objects attributes.\n",
    "#Methods are defined within a class and always include self as their first parameter.\n",
    "#Methods are called on an instance of a class.\n",
    "def func():\n",
    "    calc = 2 + 3 + 4 * 6\n",
    "    return calc\n",
    "func()\n",
    "    "
   ]
  },
  {
   "cell_type": "code",
   "execution_count": 21,
   "id": "67b16cb5-1ac9-4561-a720-50efd0ee98e4",
   "metadata": {},
   "outputs": [],
   "source": [
    "#2 Explain the concept of function arguments and parameters in python.\n",
    "\n",
    "#Parameter are the variables listed inside the parentheses in the function definition. They act as placeholders for the values that will be passed to the function.\n",
    "\n",
    "#Arguments are the actualvalues that are passed to the function when it is called. These values are assigned to the corresponding parameters.\n",
    "#Types of argument:\n",
    "#Positional Argu#Types of argument:\n",
    "#keyword Arguments\n",
    "#Default Arguments\n",
    "#Arbitrary Arguments\n",
    "def greet(name, msg=\"Hello\"):\n",
    "    print (msg, name)\n",
    "    "
   ]
  },
  {
   "cell_type": "code",
   "execution_count": 23,
   "id": "c3983260-1f67-4a27-bcf2-0cc766f7aede",
   "metadata": {},
   "outputs": [
    {
     "name": "stdout",
     "output_type": "stream",
     "text": [
      "Good morning Suraj\n"
     ]
    }
   ],
   "source": [
    "greet(\"Suraj\", \"Good morning\")\n",
    "\n"
   ]
  },
  {
   "cell_type": "code",
   "execution_count": 32,
   "id": "9f7f0558-9883-469b-ba49-d17a9be617e9",
   "metadata": {},
   "outputs": [
    {
     "name": "stdout",
     "output_type": "stream",
     "text": [
      "25\n"
     ]
    }
   ],
   "source": [
    "#3 What are the different ways to define and call a function in python?\n",
    "\n",
    "#Basic function definition and call\n",
    "#Function with parameters\n",
    "#Function with return value\n",
    "#Lambda function\n",
    "#Function annotation\n",
    "#Generator Functions\n",
    "def square(x: int) -> int:\n",
    "    return x ** 2\n",
    "result = square(5)\n",
    "print(result)"
   ]
  },
  {
   "cell_type": "code",
   "execution_count": 33,
   "id": "f2eed7b7-2ac5-46c6-beeb-6bc3407cc22e",
   "metadata": {},
   "outputs": [
    {
     "name": "stdout",
     "output_type": "stream",
     "text": [
      "30\n"
     ]
    }
   ],
   "source": [
    "# using lambda function\n",
    "multiply = lambda x, y: x * y\n",
    "result = multiply(5, 6)\n",
    "print(result)"
   ]
  },
  {
   "cell_type": "code",
   "execution_count": 36,
   "id": "86165e6d-0f7b-4e74-bfd5-c86b8b915913",
   "metadata": {},
   "outputs": [
    {
     "name": "stdout",
     "output_type": "stream",
     "text": [
      "1000\n"
     ]
    }
   ],
   "source": [
    "#4 What is the purpose of the return statement in a python function?\n",
    "\n",
    "#The return statement in a python function is used to send a value back to the caller of the function. \n",
    "# Exiting the Function: When a return statement is executed, the function terminates immediately, and control is passed back to the calling code.\n",
    "#Returning Values: The value specified after the return keyword is sent back to the caller. If no value is specified, None is returned by default.\n",
    "#Multiple Returns: A function can have multiple return statements, but only one will be executed based on the flow of the function.\n",
    "    \n",
    "def add(a, b):\n",
    "    return a + b\n",
    "\n",
    "result = add(500, 500)\n",
    "print(result)\n"
   ]
  },
  {
   "cell_type": "code",
   "execution_count": 42,
   "id": "8312f27e-4d88-49a5-9689-5b0232325f8b",
   "metadata": {},
   "outputs": [
    {
     "name": "stdout",
     "output_type": "stream",
     "text": [
      "2\n",
      "2\n",
      "3\n",
      "2\n"
     ]
    }
   ],
   "source": [
    "#5 What are iterators in python and how do they differ from iterables?\n",
    "\n",
    "#Iterables >> An iterable is any python object capable of returning its members one at a time, allowing it to be looped over in a loop.\n",
    "#common examples include lists, tuples, strings and dictionary. these objects implement the _iter_() method, which returns an iterator.\n",
    "\n",
    "#Iterators >> An iterator is an object that represents a stream of data. it is created from an iterable using the iter() function.\n",
    "#iterators implement two methods >> _iter_(), _next_()\n",
    "#Key Differences\n",
    "#Creation: Iterables are objects that can be converted into iterators using the iter() function. Iterators are objects that keep state and produce the next value when you call next().\n",
    "#Usage: You can loop over an iterable directly, but to loop over an iterator, you need to call next() until the sequence is exhausted.\n",
    "#State: Iterators maintain their state during iteration, whereas iterables do not.\n",
    "\n",
    "my_list = [ 2, 3,]\n",
    "for item in my_list:\n",
    "    print(item)\n",
    "    \n",
    "    my_iterator = iter(my_list)\n",
    "    print(next(my_iterator))"
   ]
  },
  {
   "cell_type": "code",
   "execution_count": 48,
   "id": "3f36d295-e5be-40c4-acc5-45ee825a8252",
   "metadata": {},
   "outputs": [
    {
     "name": "stdout",
     "output_type": "stream",
     "text": [
      "0\n",
      "1\n",
      "1\n",
      "2\n",
      "3\n",
      "5\n",
      "8\n",
      "13\n",
      "21\n",
      "34\n"
     ]
    }
   ],
   "source": [
    "#6 Explain the concept of generators in python and how they are defined.\n",
    "\n",
    "#Generators in python are a type of iterable that allow you to iterate through a sequence of values without  storing the entire sequence in memory at once.\n",
    "#generators are defined using function and the yield statement.\n",
    "#Key Features of Generators:\n",
    "#Lazy Evaluation: Generators produce items only when needed, which helps in saving memory.\n",
    "#State Retention: They maintain their state between iterations, which means they can resume from where they left off.\n",
    "#Infinite Sequences: Generators can represent infinite sequences, like an endless stream of numbers.\n",
    "\n",
    "def fibonacci_generator():\n",
    "    a, b = 0, 1\n",
    "    while True:\n",
    "        yield a\n",
    "        a, b = b, a + b\n",
    "\n",
    "# Create a generator object\n",
    "fib_gen = fibonacci_generator()\n",
    "\n",
    "# Print the first 10 Fibonacci numbers\n",
    "for i in range(10):\n",
    "    print(next(fib_gen))\n",
    "\n"
   ]
  },
  {
   "cell_type": "code",
   "execution_count": 57,
   "id": "d4e11183-a1cb-4bed-810c-3e3ad75df9ee",
   "metadata": {},
   "outputs": [
    {
     "name": "stdout",
     "output_type": "stream",
     "text": [
      "0\n",
      "1\n",
      "2\n",
      "3\n",
      "4\n",
      "5\n",
      "6\n",
      "7\n",
      "8\n",
      "9\n"
     ]
    }
   ],
   "source": [
    "#7 What are the advantages of using generators over regular functions?\n",
    "\n",
    "#Generators offer several advantages over regular functions:\n",
    "#Memory efficiency:- Generators produce items one at a time and only when required, which means they use significantly less memory compared to functions that return entire lists.\n",
    "#Lazy evaluation:-Generators evaluate items lazily, meaning they generate values on the fly and only when needed. This can lead to performance improvements, especially with large datasets.\n",
    "#Infinite Sequences: Generators can represent infinite sequences, such as streams of data or mathematical sequences, without running into memory issues.\n",
    "#Improved Performance: Since generators yield items one at a time, they can start producing results immediately and continue to do so as needed, which can lead to faster execution times in certain scenarios.\n",
    "#Simpler Code: Generators can simplify code by replacing complex iterator classes with a simple function using the yield keyword.\n",
    "\n",
    "def my_generator(n):\n",
    "    # Initialize counter\n",
    "    value = 0\n",
    "    # Loop until counter is less than n\n",
    "    while value < n:\n",
    "        # Produce the current value of the counter\n",
    "        yield value\n",
    "        # Increment the counter\n",
    "        value += 1\n",
    "\n",
    "# Iterate over the generator object produced by my_generator\n",
    "for value in my_generator(10):\n",
    "    # Print each value produced by the generator\n",
    "    print(value)\n"
   ]
  },
  {
   "cell_type": "code",
   "execution_count": 62,
   "id": "30647380-5fba-4e29-b823-3edab63d3599",
   "metadata": {},
   "outputs": [
    {
     "name": "stdout",
     "output_type": "stream",
     "text": [
      "25\n",
      "9\n"
     ]
    }
   ],
   "source": [
    "#8 What is a lambda function in python and when is it typically used?\n",
    "#When to Use Lambda Functions:\n",
    "#Short, Simple Functions: When you need a small function for a short period, especially within another function.\n",
    "#Higher-Order Functions: Often used with functions like map(), filter(), and reduce() where you need to pass a function as an argument.\n",
    "#Inline Function Definitions: When defining a function in a concise way without formally declaring it using def.\n",
    "\n",
    "#A lambda function in python is a small anonymous function defined using the lambda keyword.\n",
    "#syntax >> lambda arguments: expression\n",
    "\n",
    "#Typical uses of lambda function:\n",
    "#As a short function in map()\n",
    "#With filter()\n",
    "#In sorted()\n",
    "#As a callback function()\n",
    "\n",
    "# Define a lambda function that squares its input\n",
    "square = lambda x: x**2\n",
    "\n",
    "# Use the lambda function\n",
    "print(square(5))  \n",
    "print(square(3)) \n",
    "\n"
   ]
  },
  {
   "cell_type": "code",
   "execution_count": 13,
   "id": "b275b264-9150-4c2f-8afc-936edca0ff91",
   "metadata": {},
   "outputs": [
    {
     "name": "stdout",
     "output_type": "stream",
     "text": [
      "[5, 7, 9]\n"
     ]
    }
   ],
   "source": [
    "#9 Explain the purpose and usage of the map() function in python.\n",
    "\n",
    "#Purpose of map:\n",
    "# The rpimary purpose of the map() function is to simplify the process of applying a function to each item in an iterable, making your code more concise and readable.\n",
    "\n",
    "#Usage:\n",
    "# function: The function you want to apply to each element of the iterable.\n",
    "#iterable: The collection of items (e.g., a list) that you want to process.\n",
    "\n",
    "# Add two lists element-wise using map and lambda\n",
    "numbers1 = [1, 2, 3]\n",
    "numbers2 = [4, 5, 6]\n",
    "result = map(lambda x, y: x + y, numbers1, numbers2)\n",
    "print(list(result))\n"
   ]
  },
  {
   "cell_type": "code",
   "execution_count": 14,
   "id": "0bbaabb9-56d2-46eb-b20f-396a65b887c6",
   "metadata": {},
   "outputs": [
    {
     "name": "stdout",
     "output_type": "stream",
     "text": [
      "[2, 4, 6, 8]\n"
     ]
    }
   ],
   "source": [
    "# Double all numbers using a lambda expression\n",
    "numbers = (1, 2, 3, 4)\n",
    "result = map(lambda x: x + x, numbers)\n",
    "print(list(result))  \n"
   ]
  },
  {
   "cell_type": "code",
   "execution_count": 18,
   "id": "75f9958f-3268-4912-8a05-990dcc6130f7",
   "metadata": {},
   "outputs": [
    {
     "name": "stdout",
     "output_type": "stream",
     "text": [
      "[True, False, False, True, False]\n"
     ]
    }
   ],
   "source": [
    "#10 What is the difference between map(), reduce(), and filter() functions in python?\n",
    "\n",
    "# Map():\n",
    "#Purpose: Applies a given function to all items in an input list (or any iterable) and returns a map object (which can be converted to a list).\n",
    "#Usage: When you want to transform all elements in an iterable.\n",
    "#syntax: map(function, iterable)\n",
    "   # Without using lambdas\n",
    "    \n",
    "def starts_with_A(s):\n",
    "    return s[0] == \"A\"\n",
    "\n",
    "fruit = [\"Apple\", \"Banana\", \"Pear\", \"Apricot\", \"Orange\"]\n",
    "map_object = map(starts_with_A, fruit)\n",
    "print(list(map_object)) \n"
   ]
  },
  {
   "cell_type": "code",
   "execution_count": 19,
   "id": "65bfdb1d-2e7b-4932-8646-a9041334ea14",
   "metadata": {},
   "outputs": [
    {
     "name": "stdout",
     "output_type": "stream",
     "text": [
      "['Banana', 'Apricot', 'Orange']\n"
     ]
    }
   ],
   "source": [
    "#Filter():\n",
    "#Purpose: Constructs an iterator from elements of an iterable for which a function returns true.\n",
    "#Usage: When you want to filter elements in an iterable based on a condition.\n",
    "\n",
    "juicy_fruits = filter(lambda s: len(s) > 5, fruit)\n",
    "print(list(juicy_fruits)) \n",
    "\n"
   ]
  },
  {
   "cell_type": "code",
   "execution_count": 21,
   "id": "eabab92d-9b89-4fac-a1d4-df2fc1b6da86",
   "metadata": {},
   "outputs": [
    {
     "name": "stdout",
     "output_type": "stream",
     "text": [
      "28\n"
     ]
    }
   ],
   "source": [
    "#Reduce():\n",
    "#Purpose: Applies a given function cumulatively to the items of an iterable, from left to right, so as to reduce the iterable to a single value.\n",
    "#Usage: When you need to perform a cumulative operation on an iterable.\n",
    "\n",
    "from functools import reduce\n",
    "\n",
    "total_length = reduce(lambda acc, s: acc + len(s), fruit, 0)\n",
    "print(total_length)\n"
   ]
  },
  {
   "cell_type": "code",
   "execution_count": null,
   "id": "6d8667ef-9722-44fc-9340-365e6d0aa83d",
   "metadata": {},
   "outputs": [],
   "source": [
    "# Practical Question"
   ]
  },
  {
   "cell_type": "code",
   "execution_count": 8,
   "id": "5b685072-e779-4c40-8d42-200221e2c0c5",
   "metadata": {},
   "outputs": [
    {
     "name": "stdout",
     "output_type": "stream",
     "text": [
      "30\n"
     ]
    }
   ],
   "source": [
    "#1 Write a python function that takes a list of numbers as input and returns the sum of all even numbvers in the list.\n",
    "\n",
    "def sum_of_even_numbers(numbers):\n",
    "    return sum(num for num in numbers if num % 2 == 0)\n",
    "\n",
    "# Example usage:\n",
    "numbers = [1, 2, 3, 4, 16, 8]\n",
    "print(sum_of_even_numbers(numbers))\n",
    "\n"
   ]
  },
  {
   "cell_type": "code",
   "execution_count": 12,
   "id": "afb66956-84f8-471f-af20-83e11a86ea73",
   "metadata": {},
   "outputs": [
    {
     "data": {
      "text/plain": [
       "'itapajarp jaruS'"
      ]
     },
     "execution_count": 12,
     "metadata": {},
     "output_type": "execute_result"
    }
   ],
   "source": [
    "#2 Create a python function that accepts a string and returns the reverse of that string.\n",
    "  \n",
    "#example usage:\n",
    "\n",
    "string = \"Suraj prajapati\"\n",
    "string[::-1]"
   ]
  },
  {
   "cell_type": "code",
   "execution_count": 14,
   "id": "78288720-4a50-4c37-8f0b-5d813abc5c98",
   "metadata": {},
   "outputs": [
    {
     "name": "stdout",
     "output_type": "stream",
     "text": [
      "[100, 400, 900, 1600, 2500]\n"
     ]
    }
   ],
   "source": [
    "#3 Implement a python function that takes a list of integers and returns a new list containing the squares of each number.\n",
    "\n",
    "def square_numbers(numbers):\n",
    "    return [x**2 for x in numbers]\n",
    "\n",
    "# Example usage:\n",
    "input_list = [10, 20, 30, 40, 50]\n",
    "squared_list = square_numbers(input_list)\n",
    "print(squared_list)  \n"
   ]
  },
  {
   "cell_type": "code",
   "execution_count": 15,
   "id": "51410f0d-9a3e-4ed7-8114-decc1bde355d",
   "metadata": {},
   "outputs": [
    {
     "name": "stdout",
     "output_type": "stream",
     "text": [
      "[2, 3, 5, 7, 11, 13, 17, 19, 23, 29, 31, 37, 41, 43, 47, 53, 59, 61, 67, 71, 73, 79, 83, 89, 97, 101, 103, 107, 109, 113, 127, 131, 137, 139, 149, 151, 157, 163, 167, 173, 179, 181, 191, 193, 197, 199]\n"
     ]
    }
   ],
   "source": [
    "#4 Write a python function that checks if a given numbers is prime or not from 1 to 200.\n",
    "\n",
    "def is_prime(n):\n",
    "    \"\"\"Check if a number is prime.\"\"\"\n",
    "    if n <= 1:\n",
    "        return False\n",
    "    for i in range(2, int(n**0.5) + 1):\n",
    "        if n % i == 0:\n",
    "            return False\n",
    "    return True\n",
    "\n",
    "# Check prime numbers from 1 to 200\n",
    "prime_numbers = [num for num in range(1, 201) if is_prime(num)]\n",
    "print(prime_numbers)\n"
   ]
  },
  {
   "cell_type": "code",
   "execution_count": 17,
   "id": "a010eb59-d618-4ec6-81d8-bfcf86de9043",
   "metadata": {},
   "outputs": [
    {
     "name": "stdout",
     "output_type": "stream",
     "text": [
      "0\n",
      "1\n",
      "1\n",
      "2\n",
      "3\n"
     ]
    }
   ],
   "source": [
    "#5 Create an iterator class in python that generates the fibonacci sequence up to a specified number of terms.\n",
    "\n",
    "class Fibonacci:\n",
    "    def __init__(self, n):\n",
    "        self.n = n\n",
    "        self.current = 0\n",
    "        self.next = 1\n",
    "        self.count = 0\n",
    "\n",
    "    def __iter__(self):\n",
    "        return self\n",
    "\n",
    "    def __next__(self):\n",
    "        if self.count >= self.n:\n",
    "            raise StopIteration\n",
    "        self.count += 1\n",
    "        fib = self.current\n",
    "        self.current, self.next = self.next, self.current + self.next\n",
    "        return fib\n",
    "\n",
    "# Example usage:\n",
    "fib_sequence = Fibonacci(5)\n",
    "for num in fib_sequence:\n",
    "    print(num)\n"
   ]
  },
  {
   "cell_type": "code",
   "execution_count": 19,
   "id": "0647f312-ab00-42bc-9356-13a67ab5eb58",
   "metadata": {},
   "outputs": [
    {
     "name": "stdout",
     "output_type": "stream",
     "text": [
      "1\n",
      "2\n",
      "4\n",
      "8\n",
      "16\n",
      "32\n"
     ]
    }
   ],
   "source": [
    "#6 Write a generator function in python that yields the powers of 2 up to a given exponent.\n",
    "\n",
    "def powers_of_two(max_exponent):\n",
    "    exponent = 0\n",
    "    while exponent <= max_exponent:\n",
    "        yield 2 ** exponent\n",
    "        exponent += 1\n",
    "\n",
    "# Example usage:\n",
    "for power in powers_of_two(5):\n",
    "    print(power)\n"
   ]
  },
  {
   "cell_type": "code",
   "execution_count": 46,
   "id": "c3c67be1-6070-42be-a1ea-a7c6ff68c317",
   "metadata": {},
   "outputs": [
    {
     "name": "stdout",
     "output_type": "stream",
     "text": [
      "Hello, World!\n",
      "Welcome to Python generators.\n",
      "This is the third line.\n"
     ]
    }
   ],
   "source": [
    "#7 Implement a generator function that reads a file line by line and yields each line as a string.\n",
    "\n",
    "def read_file_line_by_line(file_path):\n",
    "    \"\"\"Generator function that reads a file line by line.\"\"\"\n",
    "    with open(file_path, 'r') as file:\n",
    "        for line in file:\n",
    "            yield line.rstrip('\\n')  # Remove the newline character\n",
    "\n",
    "# Example usage:\n",
    "if __name__ == \"__main__\":\n",
    "    file_path = 'example.txt'  # Replace with your actual file path\n",
    "\n",
    "    # Create the file for demonstration\n",
    "    with open(file_path, 'w') as f:\n",
    "        f.write(\"Hello, World!\\n\")\n",
    "        f.write(\"Welcome to Python generators.\\n\")\n",
    "        f.write(\"This is the third line.\\n\")\n",
    "\n",
    "    # Use the generator to read lines from the file\n",
    "    for line in read_file_line_by_line(file_path):\n",
    "        print(line)\n"
   ]
  },
  {
   "cell_type": "code",
   "execution_count": 48,
   "id": "f98ac6fd-4a8c-4280-ba8a-abac35e77cae",
   "metadata": {},
   "outputs": [
    {
     "name": "stdout",
     "output_type": "stream",
     "text": [
      "[(4, 1), (1, 2), (5, 2), (2, 4)]\n"
     ]
    }
   ],
   "source": [
    "#8 Use a lambda function in python to sort a list of tuples based on the second element of each tuple.\n",
    "\n",
    "# Sample list of tuples\n",
    "tuples_list = [(1, 2), (4, 1), (5, 2), (2, 4)]\n",
    "\n",
    "# Sorting the list based on the second element of each tuple\n",
    "sorted_list = sorted(tuples_list, key=lambda x: x[1])\n",
    "\n",
    "print(sorted_list)\n",
    "\n"
   ]
  },
  {
   "cell_type": "code",
   "execution_count": 50,
   "id": "54f5b98a-883e-4187-8d57-5ca95c09529b",
   "metadata": {},
   "outputs": [
    {
     "name": "stdout",
     "output_type": "stream",
     "text": [
      "[32.0, 50.0, 68.0, 86.0]\n"
     ]
    }
   ],
   "source": [
    "#9 Write a python program that uses map() to convert a list of temperatures from celsius to Fahrenheit.\n",
    "\n",
    "# Function to convert Celsius to Fahrenheit\n",
    "def celsius_to_fahrenheit(celsius):\n",
    "    return (celsius * 9/5) + 32\n",
    "\n",
    "# List of temperatures in Celsius\n",
    "celsius_temperatures = [0, 10, 20, 30]\n",
    "\n",
    "# Using map() to convert the list to Fahrenheit\n",
    "fahrenheit_temperatures = list(map(celsius_to_fahrenheit, celsius_temperatures))\n",
    "\n",
    "# Print the result\n",
    "print(fahrenheit_temperatures)\n"
   ]
  },
  {
   "cell_type": "code",
   "execution_count": 54,
   "id": "e2b98bcd-ab71-4f45-aea4-57d75af2683a",
   "metadata": {},
   "outputs": [
    {
     "name": "stdout",
     "output_type": "stream",
     "text": [
      "Ths s my hm nd  m lv n nd\n"
     ]
    }
   ],
   "source": [
    "#10 Create a python program that uses filter() to remove all the vowels from a given string.\n",
    "\n",
    "def remove_vowels(input_string):\n",
    "    vowels = 'aeiouAEIOU'\n",
    "    return ''.join(filter(lambda char: char not in vowels, input_string))\n",
    "\n",
    "# Example usage\n",
    "input_string = \"This is my home and i am live in India\"\n",
    "result = remove_vowels(input_string)\n",
    "print(result)  \n"
   ]
  },
  {
   "cell_type": "code",
   "execution_count": null,
   "id": "e9808c8b-a120-447e-87a1-c0cd16c6e491",
   "metadata": {},
   "outputs": [],
   "source": [
    "#11 Imagine an accounting routine used in a book shop. It works on a list with sublists, which look like this:\n",
    "\n",
    "    order          Book Title and Aurthor            Quantity    Price per item\n",
    "    34587          Learning python, Mark lutz          4           40.95\n",
    "    98762          Programming python, Mark lutz       5           56.80\n",
    "    77226          Head first python, Paul barry       3           32.95\n",
    "    88112          Einfuhrung in python3, Bernd klein  3           24.99\n",
    "\n",
    "\n",
    "Write a Python program, which returns a list with 2-tuples. Each tuple consists of the order number and the\n",
    "product of the price per item and the quantity. The product should be increased by 10,- € if the value of the\n",
    "order is smaller than 100,0 €.\n",
    "\n",
    "Write a Python program using lambda and map."
   ]
  },
  {
   "cell_type": "code",
   "execution_count": 62,
   "id": "d0adb370-152d-47e3-be4a-8250d270b23d",
   "metadata": {},
   "outputs": [
    {
     "name": "stdout",
     "output_type": "stream",
     "text": [
      "[(34587, 163.8), (98762, 284.0), (77226, 108.85000000000001), (88112, 84.97)]\n"
     ]
    }
   ],
   "source": [
    "orders = [\n",
    "    [34587, \"Learning python, Mark Lutz\", 4, 40.95],\n",
    "    [98762, \"Programming python, Mark Lutz\", 5, 56.80],\n",
    "    [77226, \"Head first python, Paul Barry\", 3, 32.95],\n",
    "    [88112, \"Einfuhrung in python3, Bernd Klein\", 3, 24.99]\n",
    "]\n",
    "\n",
    "# Function to calculate the total price with the condition\n",
    "calculate_total = lambda order: (order[0], order[2] * order[3] + 10 if order[2] * order[3] < 100 else order[2] * order[3])\n",
    "\n",
    "# Using map to apply the function to all orders\n",
    "result = list(map(calculate_total, orders))\n",
    "\n",
    "print(result)\n"
   ]
  },
  {
   "cell_type": "code",
   "execution_count": null,
   "id": "b6981d5d-9289-4ded-969a-719360ca2787",
   "metadata": {},
   "outputs": [],
   "source": []
  }
 ],
 "metadata": {
  "kernelspec": {
   "display_name": "Python 3 (ipykernel)",
   "language": "python",
   "name": "python3"
  },
  "language_info": {
   "codemirror_mode": {
    "name": "ipython",
    "version": 3
   },
   "file_extension": ".py",
   "mimetype": "text/x-python",
   "name": "python",
   "nbconvert_exporter": "python",
   "pygments_lexer": "ipython3",
   "version": "3.10.8"
  }
 },
 "nbformat": 4,
 "nbformat_minor": 5
}
